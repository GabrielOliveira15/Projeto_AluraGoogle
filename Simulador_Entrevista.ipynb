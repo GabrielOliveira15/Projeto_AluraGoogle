{
  "nbformat": 4,
  "nbformat_minor": 0,
  "metadata": {
    "colab": {
      "provenance": [],
      "toc_visible": true,
      "authorship_tag": "ABX9TyP17MW9BftqBYjXYnYL8FCL",
      "include_colab_link": true
    },
    "kernelspec": {
      "name": "python3",
      "display_name": "Python 3"
    },
    "language_info": {
      "name": "python"
    }
  },
  "cells": [
    {
      "cell_type": "markdown",
      "metadata": {
        "id": "view-in-github",
        "colab_type": "text"
      },
      "source": [
        "<a href=\"https://colab.research.google.com/github/GabrielOliveira15/Projeto_AluraGoogle/blob/main/Simulador_Entrevista.ipynb\" target=\"_parent\"><img src=\"https://colab.research.google.com/assets/colab-badge.svg\" alt=\"Open In Colab\"/></a>"
      ]
    },
    {
      "cell_type": "markdown",
      "source": [
        "# Instalando e importando as bibliotecas necessárias\n"
      ],
      "metadata": {
        "id": "_SrTg1E73JTv"
      }
    },
    {
      "cell_type": "code",
      "execution_count": 1,
      "metadata": {
        "id": "0PrwV9rTbAOC"
      },
      "outputs": [],
      "source": [
        "!pip install -q -U google-generativeai  # Instalando SDK do Gemini IA"
      ]
    },
    {
      "cell_type": "code",
      "source": [
        "# Importando SDK para Python\n",
        "import google.generativeai as genai\n",
        "from google.colab import userdata\n",
        "\n",
        "GOOGLE_API_KEY = userdata.get('API_Key')\n",
        "genai.configure(api_key=GOOGLE_API_KEY) # Aplicando Chave API"
      ],
      "metadata": {
        "id": "3eJGkt8PbkwG"
      },
      "execution_count": 2,
      "outputs": []
    },
    {
      "cell_type": "markdown",
      "source": [
        "# Configurando e indicando os parâmetros para o Gemini IA\n"
      ],
      "metadata": {
        "id": "qT6u7Jjg3lZ0"
      }
    },
    {
      "cell_type": "code",
      "source": [
        "configuracao_geracao = {\n",
        "    \"temperature\": 0.8,\n",
        "    \"candidate_count\": 1,\n",
        "} # Configurações para a geração"
      ],
      "metadata": {
        "id": "7Ddutdqzhmqt"
      },
      "execution_count": null,
      "outputs": []
    },
    {
      "cell_type": "code",
      "source": [
        "model = genai.GenerativeModel('gemini-pro', None, generation_config=configuracao_geracao) # Declarando modelo a ser utilizado"
      ],
      "metadata": {
        "id": "nZistgJLbsmw"
      },
      "execution_count": 3,
      "outputs": []
    },
    {
      "cell_type": "markdown",
      "source": [
        "# Inicializando o chat"
      ],
      "metadata": {
        "id": "bNPG_mYO3xOd"
      }
    },
    {
      "cell_type": "code",
      "source": [
        "chat = model.start_chat(history=[]) # Inicializando um chat"
      ],
      "metadata": {
        "id": "h01JtNhssg9f"
      },
      "execution_count": 70,
      "outputs": []
    },
    {
      "cell_type": "code",
      "source": [
        "profissao = input(\"Digite a profissão: \") # Questionando para qual vaga deseja a entrevista\n",
        "resposta = \"\" # Limpando o quesito de finalização"
      ],
      "metadata": {
        "id": "HB9cyJXXepFs"
      },
      "execution_count": null,
      "outputs": []
    },
    {
      "cell_type": "code",
      "source": [
        "print(\"Para finalizar as perguntas, digite -> finalizar\\n\\n\") # Informando ponto de parada\n",
        "\n",
        "response = chat.send_message(\"Aja como se você fosse um recrutador, me faça uma pergunta sobre a vaga de \" + (profissao) + \", retorne somente a pergunta, não repita perguntas, podendo perguntar de habilidades interpessoais e habilidades específicas, não retornar resposta nesta instrução, depois de cada resposta me faça outra pergunta\") # Gerando uma pergunta com base do profissão indicada\n",
        "print(response.text) # Exibindo a pergunta gerada\n",
        "\n",
        "while resposta != \"finalizar\":\n",
        "  resposta = input(\"Reposta: \") # Digite a resposta para a pergunta anterior\n",
        "\n",
        "  if resposta != \"finalizar\":\n",
        "   nova_pergunta = chat.send_message(\"Resposta: \" + resposta)\n",
        "   print(\"\\n\" + nova_pergunta.text)"
      ],
      "metadata": {
        "id": "Twv6s_wobx24"
      },
      "execution_count": null,
      "outputs": []
    },
    {
      "cell_type": "markdown",
      "source": [
        "# Avaliação da entrevista"
      ],
      "metadata": {
        "id": "MhJQHDEx5xfG"
      }
    },
    {
      "cell_type": "code",
      "source": [
        "response = chat.send_message(\"Com no histórico, junte as perguntas e respostas e faça uma avaliação geral e dê uma nota de 0 a 10 e uma pequena descrição, não contar a última resposta\") # Avaliando a responta dada\n",
        "print(response.text)"
      ],
      "metadata": {
        "id": "9DkMHBt6ijtV"
      },
      "execution_count": null,
      "outputs": []
    }
  ]
}